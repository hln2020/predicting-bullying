{
 "cells": [
  {
   "cell_type": "markdown",
   "metadata": {},
   "source": [
    "# Scikit-Learn Modeling"
   ]
  },
  {
   "cell_type": "code",
   "execution_count": 23,
   "metadata": {},
   "outputs": [],
   "source": [
    "import pandas as pd\n",
    "import numpy as np\n",
    "import matplotlib.pyplot as plt\n",
    "import xgboost as xgb\n",
    "import sklearn\n",
    "\n",
    "from sklearn.model_selection import train_test_split\n",
    "from sklearn.linear_model import LogisticRegression\n",
    "from sklearn.tree import DecisionTreeClassifier\n",
    "from sklearn.ensemble import RandomForestClassifier\n",
    "from sklearn import svm\n",
    "from sklearn import metrics\n",
    "from xgboost import plot_importance\n",
    "from sklearn.model_selection import train_test_split\n",
    "from sklearn.metrics import balanced_accuracy_score\n",
    "from sklearn.metrics import roc_auc_score\n",
    "from sklearn.metrics import make_scorer\n",
    "from sklearn.metrics import confusion_matrix\n",
    "from sklearn.metrics import ConfusionMatrixDisplay\n",
    "from sklearn.model_selection import GridSearchCV\n",
    "from sklearn.metrics import accuracy_score\n",
    "from sklearn.metrics import precision_score\n",
    "from sklearn.metrics import recall_score\n",
    "from sklearn.metrics import f1_score\n",
    "from time import time"
   ]
  },
  {
   "cell_type": "code",
   "execution_count": 13,
   "metadata": {
    "id": "2dyEGJn3GT1a"
   },
   "outputs": [],
   "source": [
    "# Load in data\n",
    "df = pd.read_csv('cleaned_bullying.csv')"
   ]
  },
  {
   "cell_type": "code",
   "execution_count": 14,
   "metadata": {
    "id": "_Y3zRkLcGYKx"
   },
   "outputs": [],
   "source": [
    "# Set prediction columns\n",
    "pred_cols = ['Bullied_on_school_property_in_past_12_months',\n",
    "             'Bullied_not_on_school_property_in_past_12_months',\n",
    "             'Cyber_bullied_in_past_12_months',\n",
    "             'bullied']\n",
    "Y = df[pred_cols]\n",
    "\n",
    "# Set predictor columns\n",
    "X = df.drop(columns=pred_cols)\n",
    "X = X.drop(columns='Unnamed: 0')"
   ]
  },
  {
   "cell_type": "code",
   "execution_count": 15,
   "metadata": {
    "id": "CE9SmgjsqoIV"
   },
   "outputs": [],
   "source": [
    "# Create function to calculate and plot AUC\n",
    "def AUC(y_test, y_pred, plot=None):\n",
    "    \n",
    "    # Calculate true positive and false positive rates\n",
    "    fpr, tpr, _ = metrics.roc_curve(y_test, y_pred)\n",
    "\n",
    "    # Calculate AUC\n",
    "    auc = metrics.roc_auc_score(y_test, y_pred)\n",
    "\n",
    "    # Plot ROC curve if specified\n",
    "    if plot is not None:\n",
    "        x = np.linspace(0, 1, 101)\n",
    "        y = np.linspace(0, 1, 101)\n",
    "        plt.plot(x, y, '--', color='r')\n",
    "        plt.plot(fpr, tpr)\n",
    "        plt.xlabel('False Positive Rate')\n",
    "        plt.ylabel('True Positive Rate')\n",
    "        plt.title(f'ROC Curve, AUC={auc}')\n",
    "        plt.grid()\n",
    "\n",
    "    return auc"
   ]
  },
  {
   "cell_type": "code",
   "execution_count": 16,
   "metadata": {
    "id": "7cPkwVpzqrqE"
   },
   "outputs": [],
   "source": [
    "# Create function to evaluate a given model for a certain target variable\n",
    "def evaluate(y, model, plot_auc=None, plot_cm=None):\n",
    "\n",
    "    # Start timing\n",
    "    start = time()\n",
    "\n",
    "    # Calculate and print baseline accuracy rate\n",
    "    # achieved by predicting more common class\n",
    "    vc_0, vc_1 = y.value_counts().values\n",
    "    frac = vc_0 / (vc_0 + vc_1)\n",
    "    if frac < 0.5:\n",
    "        frac = 1 - frac\n",
    "    frac = round(frac*100, 5)\n",
    "    print(f'BASELINE ACCURACY: {frac}%')\n",
    "    \n",
    "    # Train/test split\n",
    "    X_train, X_test, y_train, y_test = train_test_split(X, y, test_size=0.2, random_state=13)\n",
    "\n",
    "    # Set model\n",
    "    if model == 'logistic_regression':\n",
    "        model = LogisticRegression(solver='liblinear')\n",
    "    elif model == 'decision_tree':\n",
    "        model = DecisionTreeClassifier(random_state=13)\n",
    "    elif model == 'svm':\n",
    "        model = svm.SVC()\n",
    "    elif model == 'random_forest':\n",
    "        model = RandomForestClassifier(random_state=13)\n",
    "    elif model == 'xgboost':\n",
    "        model = xgb.XGBClassifier()\n",
    "\n",
    "    # Fit model and make predictions\n",
    "    model.fit(X_train, y_train)\n",
    "    y_pred = model.predict(X_test)\n",
    "\n",
    "    # Calculate evaluation metrics\n",
    "    accuracy = accuracy_score(y_test, y_pred)\n",
    "    precision = precision_score(y_test, y_pred)\n",
    "    recall = recall_score(y_test, y_pred)\n",
    "    f1 = f1_score(y_test, y_pred)\n",
    "\n",
    "    if plot_auc is None:\n",
    "        auc = AUC(y_test, y_pred, plot=None)\n",
    "    else:\n",
    "        auc = AUC(y_test, y_pred, plot=True)\n",
    "\n",
    "    if plot_cm is None:\n",
    "        pass\n",
    "    else:\n",
    "        cm = confusion_matrix(y_test, y_pred)\n",
    "        disp = ConfusionMatrixDisplay(confusion_matrix=cm)\n",
    "        disp.plot()\n",
    "        plt.show()\n",
    "        #ConfusionMatrixDisplay.from_predictions(y_test, y_pred)\n",
    "\n",
    "    end = time()\n",
    "    time_diff = end - start\n",
    "\n",
    "    print(f'Evaluation metrics for\\n{model}\\npredicting: {y.name}\\n')\n",
    "    print(f'Accuracy: {accuracy}')\n",
    "    print(f'Precision: {precision}')\n",
    "    print(f'Recall: {recall}')\n",
    "    print(f'F1-score: {f1}')\n",
    "    print(f'AUC: {auc}')\n",
    "    print(f'-----TOTAL TIME: {time_diff}-----')"
   ]
  },
  {
   "cell_type": "code",
   "execution_count": 17,
   "metadata": {
    "colab": {
     "base_uri": "https://localhost:8080/",
     "height": 1000
    },
    "id": "yVmgT4uMrQkX",
    "outputId": "19d89861-b4cb-468a-dc81-e2e4e438e369"
   },
   "outputs": [
    {
     "name": "stdout",
     "output_type": "stream",
     "text": [
      "BASELINE ACCURACY: 59.36305%\n"
     ]
    },
    {
     "data": {
      "image/png": "[encoded data removed]",
      "text/plain": [
       "<Figure size 432x288 with 1 Axes>"
      ]
     },
     "metadata": {
      "needs_background": "light"
     },
     "output_type": "display_data"
    },
    {
     "data": {
      "image/png": "[encoded data removed]",
      "text/plain": [
       "<Figure size 432x288 with 2 Axes>"
      ]
     },
     "metadata": {
      "needs_background": "light"
     },
     "output_type": "display_data"
    },
    {
     "name": "stdout",
     "output_type": "stream",
     "text": [
      "Evaluation metrics for\n",
      "LogisticRegression(solver='liblinear')\n",
      "predicting: bullied\n",
      "\n",
      "Accuracy: 0.6713721918639951\n",
      "Precision: 0.63316002310803\n",
      "Recall: 0.4173648134044174\n",
      "F1-score: 0.5030984622446638\n",
      "AUC: 0.6285461119016029\n",
      "-----TOTAL TIME: 0.3368971347808838-----\n"
     ]
    }
   ],
   "source": [
    "evaluate(y=Y['bullied'],\n",
    "         model=LogisticRegression(solver='liblinear'),\n",
    "         plot_auc=True,\n",
    "         plot_cm=True)"
   ]
  },
  {
   "cell_type": "code",
   "execution_count": 18,
   "metadata": {
    "colab": {
     "base_uri": "https://localhost:8080/"
    },
    "id": "r0OOWLTqt588",
    "outputId": "e3c2ca91-8a28-4e73-fc3c-5d55110a70bf"
   },
   "outputs": [
    {
     "name": "stdout",
     "output_type": "stream",
     "text": [
      "BASELINE ACCURACY: 59.36305%\n",
      "Evaluation metrics for\n",
      "LogisticRegression(solver='liblinear')\n",
      "predicting: bullied\n",
      "\n",
      "Accuracy: 0.6713721918639951\n",
      "Precision: 0.63316002310803\n",
      "Recall: 0.4173648134044174\n",
      "F1-score: 0.5030984622446638\n",
      "AUC: 0.6285461119016029\n",
      "-----TOTAL TIME: 0.09439730644226074-----\n",
      "\n",
      "BASELINE ACCURACY: 59.36305%\n",
      "Evaluation metrics for\n",
      "DecisionTreeClassifier(random_state=13)\n",
      "predicting: bullied\n",
      "\n",
      "Accuracy: 0.6246205221615058\n",
      "Precision: 0.5355648535564853\n",
      "Recall: 0.43869002284843867\n",
      "F1-score: 0.48231107389575045\n",
      "AUC: 0.5932723208638963\n",
      "-----TOTAL TIME: 0.06874537467956543-----\n",
      "\n",
      "BASELINE ACCURACY: 59.36305%\n",
      "Evaluation metrics for\n",
      "SVC()\n",
      "predicting: bullied\n",
      "\n",
      "Accuracy: 0.666970248937462\n",
      "Precision: 0.6534090909090909\n",
      "Recall: 0.3503427265803503\n",
      "F1-score: 0.4561229548834903\n",
      "AUC: 0.613586305238686\n",
      "-----TOTAL TIME: 38.14194202423096-----\n",
      "\n",
      "BASELINE ACCURACY: 59.36305%\n",
      "Evaluation metrics for\n",
      "RandomForestClassifier(random_state=13)\n",
      "predicting: bullied\n",
      "\n",
      "Accuracy: 0.6311475409836066\n",
      "Precision: 0.5417376490630323\n",
      "Recall: 0.4843869002284844\n",
      "F1-score: 0.5114595898673101\n",
      "AUC: 0.6064034450662866\n",
      "-----TOTAL TIME: 1.6891710758209229-----\n",
      "\n",
      "BASELINE ACCURACY: 59.36305%\n",
      "Evaluation metrics for\n",
      "XGBClassifier(base_score=0.5, booster='gbtree', callbacks=None,\n",
      "              colsample_bylevel=1, colsample_bynode=1, colsample_bytree=1,\n",
      "              early_stopping_rounds=None, enable_categorical=False,\n",
      "              eval_metric=None, feature_types=None, gamma=0, gpu_id=-1,\n",
      "              grow_policy='depthwise', importance_type=None,\n",
      "              interaction_constraints='', learning_rate=0.300000012,\n",
      "              max_bin=256, max_cat_threshold=64, max_cat_to_onehot=4,\n",
      "              max_delta_step=0, max_depth=6, max_leaves=0, min_child_weight=1,\n",
      "              missing=nan, monotone_constraints='()', n_estimators=100,\n",
      "              n_jobs=0, num_parallel_tree=1, predictor='auto', random_state=0, ...)\n",
      "predicting: bullied\n",
      "\n",
      "Accuracy: 0.6577109896782027\n",
      "Precision: 0.5987227248536455\n",
      "Recall: 0.4284082254379284\n",
      "F1-score: 0.4994450610432852\n",
      "AUC: 0.6190501500738355\n",
      "-----TOTAL TIME: 0.7819809913635254-----\n",
      "\n"
     ]
    }
   ],
   "source": [
    "# Evaluate all models (for any bullying)\n",
    "model_list = ['logistic_regression',\n",
    "              'decision_tree',\n",
    "              'svm',\n",
    "              'random_forest',\n",
    "              'xgboost']\n",
    "\n",
    "for model_i in model_list:\n",
    "    evaluate(y=Y['bullied'],\n",
    "         model=model_i)\n",
    "    print('')"
   ]
  },
  {
   "cell_type": "code",
   "execution_count": 19,
   "metadata": {
    "colab": {
     "base_uri": "https://localhost:8080/"
    },
    "id": "NcFSY4euyz2p",
    "outputId": "8d67f184-4ff2-4a6c-b67e-7f9afb90f270"
   },
   "outputs": [
    {
     "name": "stdout",
     "output_type": "stream",
     "text": [
      "BASELINE ACCURACY: 79.14263%\n",
      "Evaluation metrics for\n",
      "LogisticRegression(solver='liblinear')\n",
      "predicting: Bullied_on_school_property_in_past_12_months\n",
      "\n",
      "Accuracy: 0.8022161505768063\n",
      "Precision: 0.4971751412429379\n",
      "Recall: 0.06758832565284179\n",
      "F1-score: 0.11899932386747802\n",
      "AUC: 0.5253756989596029\n",
      "-----TOTAL TIME: 0.11612796783447266-----\n",
      "\n",
      "BASELINE ACCURACY: 79.14263%\n",
      "Evaluation metrics for\n",
      "DecisionTreeClassifier(random_state=13)\n",
      "predicting: Bullied_on_school_property_in_past_12_months\n",
      "\n",
      "Accuracy: 0.7443837279902854\n",
      "Precision: 0.3288530465949821\n",
      "Recall: 0.2818740399385561\n",
      "F1-score: 0.3035566583953681\n",
      "AUC: 0.5700894982136973\n",
      "-----TOTAL TIME: 0.08237099647521973-----\n",
      "\n",
      "BASELINE ACCURACY: 79.14263%\n",
      "Evaluation metrics for\n",
      "SVC()\n",
      "predicting: Bullied_on_school_property_in_past_12_months\n",
      "\n",
      "Accuracy: 0.8026715239829993\n",
      "Precision: 0.6\n",
      "Recall: 0.004608294930875576\n",
      "F1-score: 0.009146341463414635\n",
      "AUC: 0.5019257895388393\n",
      "-----TOTAL TIME: 25.54489493370056-----\n",
      "\n",
      "BASELINE ACCURACY: 79.14263%\n",
      "Evaluation metrics for\n",
      "RandomForestClassifier(random_state=13)\n",
      "predicting: Bullied_on_school_property_in_past_12_months\n",
      "\n",
      "Accuracy: 0.7729204614450516\n",
      "Precision: 0.358600583090379\n",
      "Recall: 0.1889400921658986\n",
      "F1-score: 0.24748490945674045\n",
      "AUC: 0.5528506741571074\n",
      "-----TOTAL TIME: 1.5923891067504883-----\n",
      "\n",
      "BASELINE ACCURACY: 79.14263%\n",
      "Evaluation metrics for\n",
      "XGBClassifier(base_score=0.5, booster='gbtree', callbacks=None,\n",
      "              colsample_bylevel=1, colsample_bynode=1, colsample_bytree=1,\n",
      "              early_stopping_rounds=None, enable_categorical=False,\n",
      "              eval_metric=None, feature_types=None, gamma=0, gpu_id=-1,\n",
      "              grow_policy='depthwise', importance_type=None,\n",
      "              interaction_constraints='', learning_rate=0.300000012,\n",
      "              max_bin=256, max_cat_threshold=64, max_cat_to_onehot=4,\n",
      "              max_delta_step=0, max_depth=6, max_leaves=0, min_child_weight=1,\n",
      "              missing=nan, monotone_constraints='()', n_estimators=100,\n",
      "              n_jobs=0, num_parallel_tree=1, predictor='auto', random_state=0, ...)\n",
      "predicting: Bullied_on_school_property_in_past_12_months\n",
      "\n",
      "Accuracy: 0.7935640558591378\n",
      "Precision: 0.42487046632124353\n",
      "Recall: 0.1259600614439324\n",
      "F1-score: 0.19431279620853079\n",
      "AUC: 0.5419811657957461\n",
      "-----TOTAL TIME: 0.7937448024749756-----\n",
      "\n"
     ]
    }
   ],
   "source": [
    "# Evaluate all models (for bullying at school)\n",
    "for model_i in model_list:\n",
    "    evaluate(y=Y['Bullied_on_school_property_in_past_12_months'],\n",
    "         model=model_i)\n",
    "    print('')"
   ]
  },
  {
   "cell_type": "code",
   "execution_count": 20,
   "metadata": {
    "colab": {
     "base_uri": "https://localhost:8080/"
    },
    "id": "kt_pstdVzML8",
    "outputId": "0aa4b299-4c03-4ffc-afb7-b95b8ba5af7f"
   },
   "outputs": [
    {
     "name": "stdout",
     "output_type": "stream",
     "text": [
      "BASELINE ACCURACY: 77.79768%\n",
      "Evaluation metrics for\n",
      "LogisticRegression(solver='liblinear')\n",
      "predicting: Bullied_not_on_school_property_in_past_12_months\n",
      "\n",
      "Accuracy: 0.7794474802671524\n",
      "Precision: 0.5658536585365853\n",
      "Recall: 0.07837837837837838\n",
      "F1-score: 0.13768545994065282\n",
      "AUC: 0.530477364600309\n",
      "-----TOTAL TIME: 0.14375710487365723-----\n",
      "\n",
      "BASELINE ACCURACY: 77.79768%\n",
      "Evaluation metrics for\n",
      "DecisionTreeClassifier(random_state=13)\n",
      "predicting: Bullied_not_on_school_property_in_past_12_months\n",
      "\n",
      "Accuracy: 0.7339101396478446\n",
      "Precision: 0.37579617834394907\n",
      "Recall: 0.27905405405405403\n",
      "F1-score: 0.3202791779759597\n",
      "AUC: 0.572377457723973\n",
      "-----TOTAL TIME: 0.0784611701965332-----\n",
      "\n",
      "BASELINE ACCURACY: 77.79768%\n",
      "Evaluation metrics for\n",
      "SVC()\n",
      "predicting: Bullied_not_on_school_property_in_past_12_months\n",
      "\n",
      "Accuracy: 0.7774741955069824\n",
      "Precision: 0.6346153846153846\n",
      "Recall: 0.0222972972972973\n",
      "F1-score: 0.04308093994778068\n",
      "AUC: 0.509288820927427\n",
      "-----TOTAL TIME: 25.17152190208435-----\n",
      "\n",
      "BASELINE ACCURACY: 77.79768%\n",
      "Evaluation metrics for\n",
      "RandomForestClassifier(random_state=13)\n",
      "predicting: Bullied_not_on_school_property_in_past_12_months\n",
      "\n",
      "Accuracy: 0.7566788099574985\n",
      "Precision: 0.4149377593360996\n",
      "Recall: 0.20270270270270271\n",
      "F1-score: 0.2723558783477077\n",
      "AUC: 0.559945713136786\n",
      "-----TOTAL TIME: 1.6701459884643555-----\n",
      "\n",
      "BASELINE ACCURACY: 77.79768%\n",
      "Evaluation metrics for\n",
      "XGBClassifier(base_score=0.5, booster='gbtree', callbacks=None,\n",
      "              colsample_bylevel=1, colsample_bynode=1, colsample_bytree=1,\n",
      "              early_stopping_rounds=None, enable_categorical=False,\n",
      "              eval_metric=None, feature_types=None, gamma=0, gpu_id=-1,\n",
      "              grow_policy='depthwise', importance_type=None,\n",
      "              interaction_constraints='', learning_rate=0.300000012,\n",
      "              max_bin=256, max_cat_threshold=64, max_cat_to_onehot=4,\n",
      "              max_delta_step=0, max_depth=6, max_leaves=0, min_child_weight=1,\n",
      "              missing=nan, monotone_constraints='()', n_estimators=100,\n",
      "              n_jobs=0, num_parallel_tree=1, predictor='auto', random_state=0, ...)\n",
      "predicting: Bullied_not_on_school_property_in_past_12_months\n",
      "\n",
      "Accuracy: 0.7777777777777778\n",
      "Precision: 0.5210526315789473\n",
      "Recall: 0.13378378378378378\n",
      "F1-score: 0.2129032258064516\n",
      "AUC: 0.5490767000359796\n",
      "-----TOTAL TIME: 0.848747968673706-----\n",
      "\n"
     ]
    }
   ],
   "source": [
    "# Evaluate all models (for any bullying)\n",
    "for model_i in model_list:\n",
    "    evaluate(y=Y['Bullied_not_on_school_property_in_past_12_months'],\n",
    "         model=model_i)\n",
    "    print('')"
   ]
  },
  {
   "cell_type": "code",
   "execution_count": 21,
   "metadata": {
    "colab": {
     "base_uri": "https://localhost:8080/"
    },
    "id": "g_0EN9EjzMOQ",
    "outputId": "e2fb2139-3c51-404e-af52-ee9246b9f04d"
   },
   "outputs": [
    {
     "name": "stdout",
     "output_type": "stream",
     "text": [
      "BASELINE ACCURACY: 77.59427%\n",
      "Evaluation metrics for\n",
      "LogisticRegression(solver='liblinear')\n",
      "predicting: Cyber_bullied_in_past_12_months\n",
      "\n",
      "Accuracy: 0.7799028536733454\n",
      "Precision: 0.5422885572139303\n",
      "Recall: 0.07430129516019086\n",
      "F1-score: 0.13069544364508393\n",
      "AUC: 0.5281680269981779\n",
      "-----TOTAL TIME: 0.1392810344696045-----\n",
      "\n",
      "BASELINE ACCURACY: 77.59427%\n",
      "Evaluation metrics for\n",
      "DecisionTreeClassifier(random_state=13)\n",
      "predicting: Cyber_bullied_in_past_12_months\n",
      "\n",
      "Accuracy: 0.7257134183363692\n",
      "Precision: 0.3471223021582734\n",
      "Recall: 0.2631220177232447\n",
      "F1-score: 0.2993408297789841\n",
      "AUC: 0.560676416008664\n",
      "-----TOTAL TIME: 0.0771636962890625-----\n",
      "\n",
      "BASELINE ACCURACY: 77.59427%\n"
     ]
    },
    {
     "name": "stderr",
     "output_type": "stream",
     "text": [
      "/Users/alexherron/opt/miniconda3/lib/python3.8/site-packages/sklearn/metrics/_classification.py:1344: UndefinedMetricWarning: Precision is ill-defined and being set to 0.0 due to no predicted samples. Use `zero_division` parameter to control this behavior.\n",
      "  _warn_prf(average, modifier, msg_start, len(result))\n"
     ]
    },
    {
     "name": "stdout",
     "output_type": "stream",
     "text": [
      "Evaluation metrics for\n",
      "SVC()\n",
      "predicting: Cyber_bullied_in_past_12_months\n",
      "\n",
      "Accuracy: 0.7773224043715847\n",
      "Precision: 0.0\n",
      "Recall: 0.0\n",
      "F1-score: 0.0\n",
      "AUC: 0.5\n",
      "-----TOTAL TIME: 29.747720956802368-----\n",
      "\n",
      "BASELINE ACCURACY: 77.59427%\n",
      "Evaluation metrics for\n",
      "RandomForestClassifier(random_state=13)\n",
      "predicting: Cyber_bullied_in_past_12_months\n",
      "\n",
      "Accuracy: 0.7557680631451124\n",
      "Precision: 0.4060846560846561\n",
      "Recall: 0.2092706203135651\n",
      "F1-score: 0.2762033288349078\n",
      "AUC: 0.5607962162298151\n",
      "-----TOTAL TIME: 1.6335899829864502-----\n",
      "\n",
      "BASELINE ACCURACY: 77.59427%\n",
      "Evaluation metrics for\n",
      "XGBClassifier(base_score=0.5, booster='gbtree', callbacks=None,\n",
      "              colsample_bylevel=1, colsample_bynode=1, colsample_bytree=1,\n",
      "              early_stopping_rounds=None, enable_categorical=False,\n",
      "              eval_metric=None, feature_types=None, gamma=0, gpu_id=-1,\n",
      "              grow_policy='depthwise', importance_type=None,\n",
      "              interaction_constraints='', learning_rate=0.300000012,\n",
      "              max_bin=256, max_cat_threshold=64, max_cat_to_onehot=4,\n",
      "              max_delta_step=0, max_depth=6, max_leaves=0, min_child_weight=1,\n",
      "              missing=nan, monotone_constraints='()', n_estimators=100,\n",
      "              n_jobs=0, num_parallel_tree=1, predictor='auto', random_state=0, ...)\n",
      "predicting: Cyber_bullied_in_past_12_months\n",
      "\n",
      "Accuracy: 0.7744383727990285\n",
      "Precision: 0.4768856447688564\n",
      "Recall: 0.1336059986366735\n",
      "F1-score: 0.20873269435569755\n",
      "AUC: 0.5458110055671163\n",
      "-----TOTAL TIME: 0.8557517528533936-----\n",
      "\n"
     ]
    }
   ],
   "source": [
    "# Evaluate all models (for any bullying)\n",
    "for model_i in model_list:\n",
    "    evaluate(y=Y['Cyber_bullied_in_past_12_months'],\n",
    "         model=model_i)\n",
    "    print('')"
   ]
  },
  {
   "cell_type": "code",
   "execution_count": null,
   "metadata": {},
   "outputs": [],
   "source": []
  }
 ],
 "metadata": {
  "colab": {
   "provenance": []
  },
  "kernelspec": {
   "display_name": "Python 3 (ipykernel)",
   "language": "python",
   "name": "python3"
  },
  "language_info": {
   "codemirror_mode": {
    "name": "ipython",
    "version": 3
   },
   "file_extension": ".py",
   "mimetype": "text/x-python",
   "name": "python",
   "nbconvert_exporter": "python",
   "pygments_lexer": "ipython3",
   "version": "3.8.8"
  }
 },
 "nbformat": 4,
 "nbformat_minor": 1
}
